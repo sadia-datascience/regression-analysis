{
 "cells": [
  {
   "cell_type": "markdown",
   "metadata": {},
   "source": [
    "<h1>linear regression-raw<h1>"
   ]
  },
  {
   "cell_type": "code",
   "execution_count": 11,
   "metadata": {},
   "outputs": [
    {
     "name": "stdout",
     "output_type": "stream",
     "text": [
      "[[39]\n",
      " [25]\n",
      " [29]\n",
      " [35]\n",
      " [32]\n",
      " [27]\n",
      " [37]]\n",
      "[37 18 20 25 25 20 30]\n",
      "[1.19277108]\n",
      "[-13.1686747]\n"
     ]
    },
    {
     "data": {
      "text/plain": [
       "[<matplotlib.lines.Line2D at 0x21571302af0>]"
      ]
     },
     "execution_count": 11,
     "metadata": {},
     "output_type": "execute_result"
    },
    {
     "data": {
      "image/png": "[encoded data removed]",
      "text/plain": [
       "<Figure size 432x288 with 1 Axes>"
      ]
     },
     "metadata": {
      "needs_background": "light"
     },
     "output_type": "display_data"
    }
   ],
   "source": [
    "import numpy as np\n",
    "import matplotlib.pyplot as plt\n",
    "x = np.array([39, 25, 29, 35, 32,27, 37]).reshape((-1, 1))\n",
    "y = np.array([37,18, 20, 25, 25, 20, 30])\n",
    "print(x)\n",
    "print(y)\n",
    "sumx=0\n",
    "sumy=0\n",
    "sumxy=0\n",
    "sumx2=0\n",
    "n=7\n",
    "for i in range(n):\n",
    "    sumx=sumx+x[i]\n",
    "    sumx2=sumx2+x[i]*x[i]\n",
    "    sumy=sumy+y[i]\n",
    "    sumxy=sumxy+x[i]*y[i]\n",
    "b=(n*sumxy-sumx*sumy)/(n*sumx2-sumx*sumx)\n",
    "a=(sumy-b*sumx)/n\n",
    "print(b)\n",
    "print(a)\n",
    "plt.scatter(x[-180:],y[-180:])\n",
    "plt.plot(x,y)"
   ]
  },
  {
   "cell_type": "code",
   "execution_count": 4,
   "metadata": {},
   "outputs": [
    {
     "name": "stdout",
     "output_type": "stream",
     "text": [
      "[[39]\n",
      " [25]\n",
      " [29]\n",
      " [35]\n",
      " [32]\n",
      " [27]\n",
      " [37]]\n",
      "[37 18 20 25 25 20 30]\n",
      "coefficient of determination: 0.8812263981298328\n",
      "intercept: -13.16867469879518\n",
      "slope: [1.19277108]\n",
      "intercept: [-13.1686747]\n",
      "slope: [[1.19277108]]\n",
      "predicted response:\n",
      "[33.34939759 16.65060241 21.42168675 28.57831325 25.         19.03614458\n",
      " 30.96385542]\n",
      "predicted response:\n",
      "[[33.34939759]\n",
      " [16.65060241]\n",
      " [21.42168675]\n",
      " [28.57831325]\n",
      " [25.        ]\n",
      " [19.03614458]\n",
      " [30.96385542]]\n"
     ]
    },
    {
     "data": {
      "text/plain": [
       "[<matplotlib.lines.Line2D at 0x2157122fac0>]"
      ]
     },
     "execution_count": 4,
     "metadata": {},
     "output_type": "execute_result"
    },
    {
     "data": {
      "image/png": "[encoded data removed]",
      "text/plain": [
       "<Figure size 432x288 with 1 Axes>"
      ]
     },
     "metadata": {
      "needs_background": "light"
     },
     "output_type": "display_data"
    }
   ],
   "source": [
    "\n",
    "#linear regression\n",
    "import matplotlib.pyplot as plt\n",
    "import numpy as np\n",
    "from sklearn.linear_model import LinearRegression\n",
    "x = np.array([39, 25, 29, 35, 32,27, 37]).reshape((-1, 1))\n",
    "y = np.array([37,18, 20, 25, 25, 20, 30])\n",
    "print(x)\n",
    "print(y)\n",
    "model = LinearRegression()\n",
    "model.fit(x, y)\n",
    "r_sq = model.score(x, y)\n",
    "print('coefficient of determination:', r_sq)\n",
    "print('intercept:', model.intercept_)\n",
    "\n",
    "print('slope:', model.coef_)\n",
    "new_model = LinearRegression().fit(x, y.reshape((-1, 1)))\n",
    "print('intercept:', new_model.intercept_)\n",
    "\n",
    "print('slope:', new_model.coef_)\n",
    "y_pred = model.predict(x)\n",
    "print('predicted response:', y_pred, sep='\\n')\n",
    "y_pred = model.intercept_ + model.coef_ * x\n",
    "print('predicted response:', y_pred, sep='\\n')\n",
    "pred = model.predict(np.array(x[-180:]))\n",
    "plt.scatter(x[-180:],y[-180:])\n",
    "plt.plot(x[-180:],pred)\n",
    "\n",
    "\n"
   ]
  },
  {
   "cell_type": "code",
   "execution_count": 5,
   "metadata": {},
   "outputs": [
    {
     "name": "stdout",
     "output_type": "stream",
     "text": [
      "[[ 0  1]\n",
      " [ 5  1]\n",
      " [15  2]\n",
      " [25  5]\n",
      " [35 11]\n",
      " [45 15]\n",
      " [55 34]\n",
      " [60 35]]\n",
      "[ 4  5 20 14 32 22 38 43]\n",
      "coefficient of determination: 0.8615939258756775\n",
      "intercept: 5.52257927519819\n",
      "slope: [0.44706965 0.25502548]\n",
      "predicted response:\n",
      "[ 5.77760476  8.012953   12.73867497 17.9744479  23.97529728 29.4660957\n",
      " 38.78227633 41.27265006]\n",
      "predicted response:\n",
      "[ 5.77760476  8.012953   12.73867497 17.9744479  23.97529728 29.4660957\n",
      " 38.78227633 41.27265006]\n"
     ]
    }
   ],
   "source": [
    "#multiple regression\n",
    "import numpy as np\n",
    "from sklearn.linear_model import LinearRegression\n",
    "\n",
    "x = [[0, 1], [5, 1], [15, 2], [25, 5], [35, 11], [45, 15], [55, 34], [60, 35]]\n",
    "y = [4, 5, 20, 14, 32, 22, 38, 43]\n",
    "x, y = np.array(x), np.array(y)\n",
    "print(x)\n",
    "print(y)\n",
    "model = LinearRegression().fit(x, y)\n",
    "r_sq = model.score(x, y)\n",
    "print('coefficient of determination:', r_sq)\n",
    "\n",
    "print('intercept:', model.intercept_)\n",
    "\n",
    "print('slope:', model.coef_)\n",
    "y_pred = model.predict(x)\n",
    "print('predicted response:', y_pred, sep='\\n')\n",
    "y_pred = model.intercept_ + np.sum(model.coef_ * x, axis=1)\n",
    "print('predicted response:', y_pred, sep='\\n')\n",
    "\n"
   ]
  },
  {
   "cell_type": "code",
   "execution_count": null,
   "metadata": {},
   "outputs": [],
   "source": []
  },
  {
   "cell_type": "code",
   "execution_count": null,
   "metadata": {},
   "outputs": [],
   "source": []
  },
  {
   "cell_type": "code",
   "execution_count": null,
   "metadata": {},
   "outputs": [],
   "source": []
  },
  {
   "cell_type": "code",
   "execution_count": null,
   "metadata": {},
   "outputs": [],
   "source": []
  },
  {
   "cell_type": "code",
   "execution_count": null,
   "metadata": {},
   "outputs": [],
   "source": []
  },
  {
   "cell_type": "code",
   "execution_count": null,
   "metadata": {},
   "outputs": [],
   "source": [
    "\n"
   ]
  },
  {
   "cell_type": "code",
   "execution_count": 9,
   "metadata": {},
   "outputs": [
    {
     "name": "stdout",
     "output_type": "stream",
     "text": [
      "coefficient of determination: 0.9453701449127822\n",
      "intercept: 0.8430556452395734\n",
      "coefficients:\n",
      "[ 2.44828275  0.16160353 -0.15259677  0.47928683 -0.4641851 ]\n",
      "predicted response:\n",
      "[ 0.54047408 11.36340283 16.07809622 15.79139    29.73858619 23.50834636\n",
      " 39.05631386 41.92339046]\n"
     ]
    }
   ],
   "source": [
    "import numpy as np\n",
    "from sklearn.linear_model import LinearRegression\n",
    "from sklearn.preprocessing import PolynomialFeatures\n",
    "\n",
    "# Step 2a: Provide data\n",
    "x = [[0, 1], [5, 1], [15, 2], [25, 5], [35, 11], [45, 15], [55, 34], [60, 35]]\n",
    "y = [4, 5, 20, 14, 32, 22, 38, 43]\n",
    "x, y = np.array(x), np.array(y)\n",
    "\n",
    "# Step 2b: Transform input data\n",
    "x_ = PolynomialFeatures(degree=2, include_bias=False).fit_transform(x)\n",
    "\n",
    "# Step 3: Create a model and fit it\n",
    "model = LinearRegression().fit(x_, y)\n",
    "\n",
    "# Step 4: Get results\n",
    "r_sq = model.score(x_, y)\n",
    "intercept, coefficients = model.intercept_, model.coef_\n",
    "\n",
    "# Step 5: Predict\n",
    "y_pred = model.predict(x_)\n",
    "print('coefficient of determination:', r_sq)\n",
    "\n",
    "print('intercept:', intercept)\n",
    "\n",
    "print('coefficients:', coefficients, sep='\\n')\n",
    "\n",
    "\n",
    "print('predicted response:', y_pred, sep='\\n')\n"
   ]
  },
  {
   "cell_type": "markdown",
   "metadata": {},
   "source": [
    "<h1>multiple regression<h1>"
   ]
  },
  {
   "cell_type": "code",
   "execution_count": 25,
   "metadata": {},
   "outputs": [
    {
     "data": {
      "image/png": "[encoded data removed]",
      "text/plain": [
       "<Figure size 432x288 with 1 Axes>"
      ]
     },
     "metadata": {
      "needs_background": "light"
     },
     "output_type": "display_data"
    }
   ],
   "source": [
    "##multiple regression with diagram\n",
    "\n",
    "\n",
    "import numpy as np\n",
    "X= [[150,100],[159,200],[170,350],[175,400],[179,500],[180,180],[189,159],[199,110],[199,400],[199,230],[235,120],[239,340],[239,360],[249,145],[249,400]]\n",
    "Y= [0.73,1.39,2.03,1.45,1.82,1.32,0.83,0.53,1.95,1.27,0.49,1.03,1.24,0.55,1.3]\n",
    "\n",
    "\n",
    "\n",
    "\n",
    "## Prepare the Dataset\n",
    "\n",
    "import pandas as pd\n",
    "df2=pd.DataFrame(X,columns=['Price','AdSpends'])\n",
    "df2['Sales']=pd.Series(Y)\n",
    "df2\n",
    "\n",
    "\n",
    "## Apply multiple Linear Regression\n",
    "import matplotlib.pyplot as plt\n",
    "import statsmodels.formula.api as smf\n",
    "model = smf.ols(formula='Sales ~ Price + AdSpends', data=df2)\n",
    "results_formula = model.fit()\n",
    "results_formula.params\n",
    "\n",
    "\n",
    "\n",
    "## Prepare the data for Visualization\n",
    "\n",
    "x_surf, y_surf = np.meshgrid(np.linspace(df2.Price.min(), df2.Price.max(), 100),np.linspace(df2.AdSpends.min(), df2.AdSpends.max(), 100))\n",
    "onlyX = pd.DataFrame({'Price': x_surf.ravel(), 'AdSpends': y_surf.ravel()})\n",
    "fittedY=results_formula.predict(exog=onlyX)\n",
    "\n",
    "\n",
    "\n",
    "## convert the predicted result in an array\n",
    "fittedY=np.array(fittedY)\n",
    "\n",
    "\n",
    "\n",
    "\n",
    "# Visualize the Data for Multiple Linear Regression\n",
    "\n",
    "fig = plt.figure()\n",
    "ax = fig.add_subplot(111, projection='3d')\n",
    "ax.scatter(df2['Price'],df2['AdSpends'],df2['Sales'],c='red', marker='o', alpha=0.5)\n",
    "ax.plot_surface(x_surf,y_surf,fittedY.reshape(x_surf.shape), color='b', alpha=0.3)\n",
    "ax.set_xlabel('Price')\n",
    "ax.set_ylabel('AdSpends')\n",
    "ax.set_zlabel('Sales')\n",
    "plt.show()"
   ]
  },
  {
   "cell_type": "markdown",
   "metadata": {},
   "source": [
    "<h1>polynomial regression<h1>"
   ]
  },
  {
   "cell_type": "code",
   "execution_count": 3,
   "metadata": {},
   "outputs": [
    {
     "data": {
      "image/png": "[encoded data removed]",
      "text/plain": [
       "<Figure size 432x288 with 1 Axes>"
      ]
     },
     "metadata": {
      "needs_background": "light"
     },
     "output_type": "display_data"
    },
    {
     "data": {
      "image/png": "[encoded data removed]",
      "text/plain": [
       "<Figure size 432x288 with 1 Axes>"
      ]
     },
     "metadata": {
      "needs_background": "light"
     },
     "output_type": "display_data"
    },
    {
     "name": "stdout",
     "output_type": "stream",
     "text": [
      "R-Square Error associated with Simple Linear Regression: 0.8727873738671587\n",
      "R-Square Error associated with Polynomial Regression is: 0.9892511710983519\n"
     ]
    },
    {
     "data": {
      "text/plain": [
       "array([162.81769144])"
      ]
     },
     "execution_count": 3,
     "metadata": {},
     "output_type": "execute_result"
    }
   ],
   "source": [
    "import pandas as pd \n",
    "import numpy as np \n",
    "import matplotlib.pyplot as plt \n",
    "\n",
    "data = pd.read_csv('Height_Weight_Dataset.csv') \n",
    "data.head()\n",
    "\n",
    "\n",
    "# In[2]:\n",
    "\n",
    "\n",
    "#Store the data in the form of dependent and independent variables separately\n",
    "X = data.iloc[:, 0:1].values \n",
    "y = data.iloc[:, 1].values \n",
    "\n",
    "\n",
    "# In[3]:\n",
    "\n",
    "\n",
    "#Split the Dataset into Training and Test Dataset\n",
    "from sklearn.model_selection import train_test_split\n",
    "X_train, X_test, y_train, y_test = train_test_split(X, y, test_size=0.3, random_state=0)\n",
    "\n",
    "\n",
    "# In[4]:\n",
    "\n",
    "\n",
    "#Fit the Simple Linear Regression Model\n",
    "from sklearn.linear_model import LinearRegression\n",
    "LinReg = LinearRegression()\n",
    "LinReg.fit(X_train, y_train)\n",
    "\n",
    "\n",
    "# In[14]:\n",
    "\n",
    "\n",
    "# Visualise the Linear Regression Result\n",
    "plt.scatter(X_train, y_train, color = 'green') \n",
    "  \n",
    "plt.plot(X_train, LinReg.predict(X_train), color = 'blue') \n",
    "plt.title('Linear Regression') \n",
    "plt.xlabel('Age') \n",
    "plt.ylabel('Height') \n",
    "  \n",
    "plt.show() \n",
    "\n",
    "\n",
    "# In[6]:\n",
    "\n",
    "\n",
    "# Add the polynomial term to the equation/model\n",
    "from sklearn.preprocessing import PolynomialFeatures \n",
    "  \n",
    "polynom = PolynomialFeatures(degree = 2) \n",
    "X_polynom = polynom.fit_transform(X_train) \n",
    "  \n",
    "#X_polynom\n",
    "\n",
    "\n",
    "# In[7]:\n",
    "\n",
    "\n",
    "#Fit the Polynomial Regression Model \n",
    "PolyReg = LinearRegression() \n",
    "PolyReg.fit(X_polynom, y_train) \n",
    "\n",
    "\n",
    "# In[13]:\n",
    "\n",
    "\n",
    "# Visualise the Polynomial Regression Results \n",
    "plt.scatter(X_train, y_train, color = 'green') \n",
    "  \n",
    "plt.plot(X_train, PolyReg.predict(polynom.fit_transform(X_train)), color = 'blue') \n",
    "plt.title('Polynomial Regression') \n",
    "plt.xlabel('Age') \n",
    "plt.ylabel('Height') \n",
    "  \n",
    "plt.show() \n",
    "\n",
    "\n",
    "# In[15]:\n",
    "\n",
    "\n",
    "#Predicted Height from test dataset w.r.t Simple Linear Regression\n",
    "y_predict_slr = LinReg.predict(X_test)\n",
    "\n",
    "#Model Evaluation using R-Square for Simple Linear Regression\n",
    "from sklearn import metrics\n",
    "r_square = metrics.r2_score(y_test, y_predict_slr)\n",
    "print('R-Square Error associated with Simple Linear Regression:', r_square)\n",
    "\n",
    "\n",
    "# In[16]:\n",
    "\n",
    "\n",
    "#Predicted Height from test dataset w.r.t Polynomial Regression\n",
    "y_predict_pr = PolyReg.predict(polynom.fit_transform(X_test))\n",
    "\n",
    "#Model Evaluation using R-Square for Polynomial Regression\n",
    "from sklearn import metrics\n",
    "r_square = metrics.r2_score(y_test, y_predict_pr)\n",
    "print('R-Square Error associated with Polynomial Regression is:', r_square)\n",
    "\n",
    "\n",
    "# In[17]:\n",
    "\n",
    "\n",
    "# Predicting Height based on Age using Linear Regression \n",
    "LinReg.predict([[53]]) \n",
    "\n",
    "\n",
    "# In[18]:\n",
    "\n",
    "\n",
    "# Predicting Height based on Age using Polynomial Regression \n",
    "PolyReg.predict(polynom.fit_transform([[53]])) \n",
    "\n",
    "\n",
    "# In[ ]:\n",
    "\n",
    "\n",
    "\n",
    "\n"
   ]
  },
  {
   "cell_type": "markdown",
   "metadata": {},
   "source": [
    "<h1>logistic regression<h1>"
   ]
  },
  {
   "cell_type": "code",
   "execution_count": 12,
   "metadata": {},
   "outputs": [
    {
     "name": "stdout",
     "output_type": "stream",
     "text": [
      "Accuracy:  0.8\n"
     ]
    },
    {
     "data": {
      "image/png": "[encoded data removed]",
      "text/plain": [
       "<Figure size 432x288 with 2 Axes>"
      ]
     },
     "metadata": {
      "needs_background": "light"
     },
     "output_type": "display_data"
    }
   ],
   "source": [
    "##logistic regresion\n",
    "import pandas as pd\n",
    "from sklearn.model_selection import train_test_split\n",
    "from sklearn.linear_model import LogisticRegression\n",
    "from sklearn import metrics\n",
    "import seaborn as sn\n",
    "import matplotlib.pyplot as plt\n",
    "\n",
    "candidates = {'gmat': [780,750,690,710,680,730,690,720,740,690,610,690,710,680,770,610,580,650,540,590,620,600,550,550,570,670,660,580,650,660,640,620,660,660,680,650,670,580,590,690],\n",
    "              'gpa': [4,3.9,3.3,3.7,3.9,3.7,2.3,3.3,3.3,1.7,2.7,3.7,3.7,3.3,3.3,3,2.7,3.7,2.7,2.3,3.3,2,2.3,2.7,3,3.3,3.7,2.3,3.7,3.3,3,2.7,4,3.3,3.3,2.3,2.7,3.3,1.7,3.7],\n",
    "              'work_experience': [3,4,3,5,4,6,1,4,5,1,3,5,6,4,3,1,4,6,2,3,2,1,4,1,2,6,4,2,6,5,1,2,4,6,5,1,2,1,4,5],\n",
    "              'admitted': [1,1,0,1,0,1,0,1,1,0,0,1,1,0,1,0,0,1,0,0,1,0,0,0,0,1,1,0,1,1,0,0,1,1,1,0,0,0,0,1]\n",
    "              }\n",
    "\n",
    "df = pd.DataFrame(candidates,columns= ['gmat', 'gpa','work_experience','admitted'])\n",
    "\n",
    "#print (df)\n",
    "\n",
    "X = df[['gmat', 'gpa','work_experience']]\n",
    "y = df['admitted']\n",
    "\n",
    "X_train,X_test,y_train,y_test = train_test_split(X,y,test_size=0.25,random_state=0)\n",
    "\n",
    "logistic_regression= LogisticRegression()\n",
    "logistic_regression.fit(X_train,y_train)\n",
    "y_pred=logistic_regression.predict(X_test)\n",
    "\n",
    "confusion_matrix = pd.crosstab(y_test, y_pred, rownames=['Actual'], colnames=['Predicted'])\n",
    "sn.heatmap(confusion_matrix, annot=True)\n",
    "\n",
    "print('Accuracy: ',metrics.accuracy_score(y_test, y_pred))\n",
    "plt.show()"
   ]
  },
  {
   "cell_type": "markdown",
   "metadata": {},
   "source": [
    "<h1>logistic regression-raw<h1>"
   ]
  },
  {
   "cell_type": "code",
   "execution_count": 2,
   "metadata": {},
   "outputs": [
    {
     "name": "stdout",
     "output_type": "stream",
     "text": [
      "Accuracy on test set by our model       :   63.671875\n",
      "Accuracy on test set by sklearn model   :   76.953125\n"
     ]
    }
   ],
   "source": [
    "###logistic by raw code\n",
    "\n",
    "# Importing libraries\n",
    "import numpy as np\n",
    "import pandas as pd\n",
    "from sklearn.model_selection import train_test_split\n",
    "#import warnings\n",
    "#warnings.filterwarnings( \"ignore\" )\n",
    "  \n",
    "# to compare our model's accuracy with sklearn model\n",
    "from sklearn.linear_model import LogisticRegression\n",
    "# Logistic Regression\n",
    "class LogitRegression() :\n",
    "    def __init__( self, learning_rate, iterations ) :        \n",
    "        self.learning_rate = learning_rate        \n",
    "        self.iterations = iterations\n",
    "          \n",
    "    # Function for model training    \n",
    "    def fit( self, X, Y ) :        \n",
    "        # no_of_training_examples, no_of_features        \n",
    "        self.m, self.n = X.shape        \n",
    "        # weight initialization        \n",
    "        self.W = np.zeros( self.n )        \n",
    "        self.b = 0        \n",
    "        self.X = X        \n",
    "        self.Y = Y\n",
    "          \n",
    "        # gradient descent learning\n",
    "                  \n",
    "        for i in range( self.iterations ) :            \n",
    "            self.update_weights()            \n",
    "        return self\n",
    "      \n",
    "    # Helper function to update weights in gradient descent\n",
    "      \n",
    "    def update_weights( self ) :           \n",
    "        A = 1 / ( 1 + np.exp( - ( self.X.dot( self.W ) + self.b ) ) )\n",
    "          \n",
    "        # calculate gradients        \n",
    "        tmp = ( A - self.Y.T )        \n",
    "        tmp = np.reshape( tmp, self.m )        \n",
    "        dW = np.dot( self.X.T, tmp ) / self.m         \n",
    "        db = np.sum( tmp ) / self.m \n",
    "          \n",
    "        # update weights    \n",
    "        self.W = self.W - self.learning_rate * dW    \n",
    "        self.b = self.b - self.learning_rate * db\n",
    "          \n",
    "        return self\n",
    "      \n",
    "    # Hypothetical function  h( x ) \n",
    "      \n",
    "    def predict( self, X ) :    \n",
    "        Z = 1 / ( 1 + np.exp( - ( X.dot( self.W ) + self.b ) ) )        \n",
    "        Y = np.where( Z > 0.5, 1, 0 )        \n",
    "        return Y\n",
    "  \n",
    "  \n",
    "# Driver code\n",
    "  \n",
    "def main() :\n",
    "      \n",
    "    # Importing dataset    \n",
    "    df = pd.read_csv( \"pima-indians-diabetes.csv\" )\n",
    "    X = df.iloc[:,:-1].values\n",
    "    Y = df.iloc[:,-1:].values\n",
    "      \n",
    "    # Splitting dataset into train and test set\n",
    "    X_train, X_test, Y_train, Y_test = train_test_split(\n",
    "      X, Y, test_size = 1/3, random_state = 0 )\n",
    "      \n",
    "    # Model training    \n",
    "    model = LogitRegression( learning_rate = 0.01, iterations = 1000 )\n",
    "      \n",
    "    model.fit( X_train, Y_train )    \n",
    "    model1 = LogisticRegression()    \n",
    "    model1.fit( X_train, Y_train)\n",
    "      \n",
    "    # Prediction on test set\n",
    "    Y_pred = model.predict( X_test )    \n",
    "    Y_pred1 = model1.predict( X_test )\n",
    "      \n",
    "    # measure performance    \n",
    "    correctly_classified = 0    \n",
    "    correctly_classified1 = 0\n",
    "      \n",
    "    # counter    \n",
    "    count = 0    \n",
    "    for count in range( np.size( Y_pred ) ) :  \n",
    "        \n",
    "        if Y_test[count] == Y_pred[count] :            \n",
    "            correctly_classified = correctly_classified + 1\n",
    "          \n",
    "        if Y_test[count] == Y_pred1[count] :            \n",
    "            correctly_classified1 = correctly_classified1 + 1\n",
    "              \n",
    "        count = count + 1\n",
    "          \n",
    "    print( \"Accuracy on test set by our model       :  \", ( \n",
    "      correctly_classified / count ) * 100 )\n",
    "    print( \"Accuracy on test set by sklearn model   :  \", ( \n",
    "      correctly_classified1 / count ) * 100 )\n",
    "  \n",
    "  \n",
    "if __name__ == \"__main__\" :     \n",
    "    main()"
   ]
  },
  {
   "cell_type": "markdown",
   "metadata": {},
   "source": [
    "<h1>lasso regression-raw<h1>"
   ]
  },
  {
   "cell_type": "code",
   "execution_count": 4,
   "metadata": {},
   "outputs": [
    {
     "name": "stdout",
     "output_type": "stream",
     "text": [
      "Predicted values  [ 40600.91 123294.39  65033.07]\n",
      "Real values       [ 37731 122391  57081]\n",
      "Trained W         9396.99\n",
      "Trained b         26505.43\n"
     ]
    },
    {
     "data": {
      "image/png": "[encoded data removed]",
      "text/plain": [
       "<Figure size 432x288 with 1 Axes>"
      ]
     },
     "metadata": {
      "needs_background": "light"
     },
     "output_type": "display_data"
    }
   ],
   "source": [
    "# Importing libraries\n",
    "#lasso regression  \n",
    "import numpy as np\n",
    "  \n",
    "import pandas as pd\n",
    "  \n",
    "from sklearn.model_selection import train_test_split\n",
    "  \n",
    "import matplotlib.pyplot as plt\n",
    "  \n",
    "# Lasso Regression\n",
    "  \n",
    "class LassoRegression() :\n",
    "      \n",
    "    def __init__( self, learning_rate, iterations, l1_penality ) :\n",
    "          \n",
    "        self.learning_rate = learning_rate\n",
    "          \n",
    "        self.iterations = iterations\n",
    "          \n",
    "        self.l1_penality = l1_penality\n",
    "          \n",
    "    # Function for model training\n",
    "              \n",
    "    def fit( self, X, Y ) :\n",
    "          \n",
    "        # no_of_training_examples, no_of_features\n",
    "          \n",
    "        self.m, self.n = X.shape\n",
    "          \n",
    "        # weight initialization\n",
    "          \n",
    "        self.W = np.zeros( self.n )\n",
    "          \n",
    "        self.b = 0\n",
    "          \n",
    "        self.X = X\n",
    "          \n",
    "        self.Y = Y\n",
    "          \n",
    "        # gradient descent learning\n",
    "                  \n",
    "        for i in range( self.iterations ) :\n",
    "              \n",
    "            self.update_weights()\n",
    "              \n",
    "        return self\n",
    "      \n",
    "    # Helper function to update weights in gradient descent\n",
    "      \n",
    "    def update_weights( self ) :\n",
    "             \n",
    "        Y_pred = self.predict( self.X )\n",
    "          \n",
    "        # calculate gradients  \n",
    "          \n",
    "        dW = np.zeros( self.n )\n",
    "          \n",
    "        for j in range( self.n ) :\n",
    "              \n",
    "            if self.W[j] > 0 :\n",
    "                  \n",
    "                dW[j] = ( - ( 2 * ( self.X[:, j] ).dot( self.Y - Y_pred ) ) \n",
    "                           \n",
    "                         + self.l1_penality ) / self.m\n",
    "          \n",
    "            else :\n",
    "                  \n",
    "                dW[j] = ( - ( 2 * ( self.X[:, j] ).dot( self.Y - Y_pred ) ) \n",
    "                           \n",
    "                         - self.l1_penality ) / self.m\n",
    "  \n",
    "       \n",
    "        db = - 2 * np.sum( self.Y - Y_pred ) / self.m \n",
    "          \n",
    "        # update weights\n",
    "      \n",
    "        self.W = self.W - self.learning_rate * dW\n",
    "      \n",
    "        self.b = self.b - self.learning_rate * db\n",
    "          \n",
    "        return self\n",
    "      \n",
    "    # Hypothetical function  h( x ) \n",
    "      \n",
    "    def predict( self, X ) :\n",
    "      \n",
    "        return X.dot( self.W ) + self.b\n",
    "      \n",
    "def main() :\n",
    "      \n",
    "    # Importing dataset\n",
    "      \n",
    "    df = pd.read_csv( \"salary_data.csv\" )\n",
    "  \n",
    "    X = df.iloc[:, :-1].values\n",
    "  \n",
    "    Y = df.iloc[:, 1].values\n",
    "      \n",
    "    # Splitting dataset into train and test set\n",
    "  \n",
    "    X_train, X_test, Y_train, Y_test = train_test_split( X, Y, test_size = 1 / 3, random_state = 0 )\n",
    "      \n",
    "    # Model training\n",
    "      \n",
    "    model = LassoRegression( iterations = 1000, learning_rate = 0.01, l1_penality = 500 )\n",
    "  \n",
    "    model.fit( X_train, Y_train )\n",
    "      \n",
    "    # Prediction on test set\n",
    "  \n",
    "    Y_pred = model.predict( X_test )\n",
    "      \n",
    "    print( \"Predicted values \", np.round( Y_pred[:3], 2 ) ) \n",
    "      \n",
    "    print( \"Real values      \", Y_test[:3] )\n",
    "      \n",
    "    print( \"Trained W        \", round( model.W[0], 2 ) )\n",
    "      \n",
    "    print( \"Trained b        \", round( model.b, 2 ) )\n",
    "      \n",
    "    # Visualization on test set \n",
    "      \n",
    "    plt.scatter( X_test, Y_test, color = 'blue' )\n",
    "      \n",
    "    plt.plot( X_test, Y_pred, color = 'orange' )\n",
    "      \n",
    "    plt.title( 'Salary vs Experience' )\n",
    "      \n",
    "    plt.xlabel( 'Years of Experience' )\n",
    "      \n",
    "    plt.ylabel( 'Salary' )\n",
    "      \n",
    "    plt.show()\n",
    "      \n",
    "if __name__ == \"__main__\" : \n",
    "      \n",
    "    main()"
   ]
  },
  {
   "cell_type": "markdown",
   "metadata": {},
   "source": [
    "<h1>ridge regression-raw<h1>"
   ]
  },
  {
   "cell_type": "code",
   "execution_count": 5,
   "metadata": {},
   "outputs": [
    {
     "name": "stdout",
     "output_type": "stream",
     "text": [
      "Predicted values  [ 40831.44 122898.14  65078.42]\n",
      "Real values       [ 37731 122391  57081]\n",
      "Trained W         9325.76\n",
      "Trained b         26842.8\n"
     ]
    },
    {
     "data": {
      "image/png": "[encoded data removed]",
      "text/plain": [
       "<Figure size 432x288 with 1 Axes>"
      ]
     },
     "metadata": {
      "needs_background": "light"
     },
     "output_type": "display_data"
    }
   ],
   "source": [
    "# Importing libraries\n",
    "  \n",
    "import numpy as np\n",
    "import pandas as pd\n",
    "from sklearn.model_selection import train_test_split\n",
    "import matplotlib.pyplot as plt\n",
    "  \n",
    "# Ridge Regression\n",
    "  \n",
    "class RidgeRegression() :\n",
    "      \n",
    "    def __init__( self, learning_rate, iterations, l2_penality ) :\n",
    "          \n",
    "        self.learning_rate = learning_rate        \n",
    "        self.iterations = iterations        \n",
    "        self.l2_penality = l2_penality\n",
    "          \n",
    "    # Function for model training            \n",
    "    def fit( self, X, Y ) :\n",
    "          \n",
    "        # no_of_training_examples, no_of_features        \n",
    "        self.m, self.n = X.shape\n",
    "          \n",
    "        # weight initialization        \n",
    "        self.W = np.zeros( self.n )\n",
    "          \n",
    "        self.b = 0        \n",
    "        self.X = X        \n",
    "        self.Y = Y\n",
    "          \n",
    "        # gradient descent learning\n",
    "                  \n",
    "        for i in range( self.iterations ) :            \n",
    "            self.update_weights()            \n",
    "        return self\n",
    "      \n",
    "    # Helper function to update weights in gradient descent\n",
    "      \n",
    "    def update_weights( self ) :           \n",
    "        Y_pred = self.predict( self.X )\n",
    "          \n",
    "        # calculate gradients      \n",
    "        dW = ( - ( 2 * ( self.X.T ).dot( self.Y - Y_pred ) ) +               \n",
    "               ( 2 * self.l2_penality * self.W ) ) / self.m     \n",
    "        db = - 2 * np.sum( self.Y - Y_pred ) / self.m \n",
    "          \n",
    "        # update weights    \n",
    "        self.W = self.W - self.learning_rate * dW    \n",
    "        self.b = self.b - self.learning_rate * db        \n",
    "        return self\n",
    "      \n",
    "    # Hypothetical function  h( x ) \n",
    "    def predict( self, X ) :    \n",
    "        return X.dot( self.W ) + self.b\n",
    "      \n",
    "# Driver code\n",
    "  \n",
    "def main() :\n",
    "      \n",
    "    # Importing dataset    \n",
    "    df = pd.read_csv( \"salary_data.csv\" )\n",
    "    X = df.iloc[:, :-1].values\n",
    "    Y = df.iloc[:, 1].values    \n",
    "  \n",
    "    # Splitting dataset into train and test set\n",
    "    X_train, X_test, Y_train, Y_test = train_test_split( X, Y, \n",
    "                                            \n",
    "                                          test_size = 1 / 3, random_state = 0 )\n",
    "      \n",
    "    # Model training    \n",
    "    model = RidgeRegression( iterations = 1000,                             \n",
    "                            learning_rate = 0.01, l2_penality = 1 )\n",
    "    model.fit( X_train, Y_train )\n",
    "      \n",
    "    # Prediction on test set\n",
    "    Y_pred = model.predict( X_test )    \n",
    "    print( \"Predicted values \", np.round( Y_pred[:3], 2 ) )     \n",
    "    print( \"Real values      \", Y_test[:3] )    \n",
    "    print( \"Trained W        \", round( model.W[0], 2 ) )    \n",
    "    print( \"Trained b        \", round( model.b, 2 ) )\n",
    "      \n",
    "    # Visualization on test set     \n",
    "    plt.scatter( X_test, Y_test, color = 'blue' )    \n",
    "    plt.plot( X_test, Y_pred, color = 'orange' )    \n",
    "    plt.title( 'Salary vs Experience' )    \n",
    "    plt.xlabel( 'Years of Experience' )    \n",
    "    plt.ylabel( 'Salary' )    \n",
    "    plt.show()\n",
    "      \n",
    "if __name__ == \"__main__\" : \n",
    "    main()"
   ]
  },
  {
   "cell_type": "code",
   "execution_count": null,
   "metadata": {},
   "outputs": [],
   "source": []
  },
  {
   "cell_type": "code",
   "execution_count": null,
   "metadata": {},
   "outputs": [],
   "source": []
  },
  {
   "cell_type": "code",
   "execution_count": null,
   "metadata": {},
   "outputs": [],
   "source": []
  }
 ],
 "metadata": {
  "kernelspec": {
   "display_name": "Python 3",
   "language": "python",
   "name": "python3"
  },
  "language_info": {
   "codemirror_mode": {
    "name": "ipython",
    "version": 3
   },
   "file_extension": ".py",
   "mimetype": "text/x-python",
   "name": "python",
   "nbconvert_exporter": "python",
   "pygments_lexer": "ipython3",
   "version": "3.8.5"
  }
 },
 "nbformat": 4,
 "nbformat_minor": 4
}
